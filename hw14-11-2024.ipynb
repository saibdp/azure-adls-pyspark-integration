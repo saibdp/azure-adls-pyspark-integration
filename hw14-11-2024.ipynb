{
 "cells": [
  {
   "cell_type": "code",
   "execution_count": 0,
   "metadata": {
    "application/vnd.databricks.v1+cell": {
     "cellMetadata": {
      "byteLimit": 2048000,
      "rowLimit": 10000
     },
     "inputWidgets": {},
     "nuid": "8e73895d-f537-46df-90dd-9a71984e2ebf",
     "showTitle": false,
     "tableResultSettingsMap": {},
     "title": ""
    }
   },
   "outputs": [],
   "source": [
    "from pyspark.sql import functions as F"
   ]
  },
  {
   "cell_type": "code",
   "execution_count": 0,
   "metadata": {
    "application/vnd.databricks.v1+cell": {
     "cellMetadata": {
      "byteLimit": 2048000,
      "rowLimit": 10000
     },
     "inputWidgets": {},
     "nuid": "5cb23566-5e9b-48db-8b84-80240a107660",
     "showTitle": false,
     "tableResultSettingsMap": {},
     "title": ""
    }
   },
   "outputs": [],
   "source": [
    "spark.conf.set(\n",
    "    \"fs.azure.account.key.saibdp.dfs.core.windows.net\",\n",
    "    \"masPB9KN5d+Chc72FEZ82AyYyDPWR/rStH2n58VsN3qL7eG7yBjJI9c2YLSPLXET5FDcXCAAmSFU+AStScYfrw==\")"
   ]
  },
  {
   "cell_type": "code",
   "execution_count": 0,
   "metadata": {
    "application/vnd.databricks.v1+cell": {
     "cellMetadata": {
      "byteLimit": 2048000,
      "rowLimit": 10000
     },
     "inputWidgets": {},
     "nuid": "076a47e8-4b4c-457b-a78e-4be0b641ecc4",
     "showTitle": false,
     "tableResultSettingsMap": {},
     "title": ""
    }
   },
   "outputs": [
    {
     "output_type": "execute_result",
     "data": {
      "text/plain": [
       "[FileInfo(path='abfss://raw@saibdp.dfs.core.windows.net/population_by_age.tsv', name='population_by_age.tsv', size=26387, modificationTime=1731630663000)]"
      ]
     },
     "execution_count": 4,
     "metadata": {},
     "output_type": "execute_result"
    }
   ],
   "source": [
    "dbutils.fs.ls(\"abfss://raw@saibdp.dfs.core.windows.net/population_by_age.tsv\")"
   ]
  },
  {
   "cell_type": "code",
   "execution_count": 0,
   "metadata": {
    "application/vnd.databricks.v1+cell": {
     "cellMetadata": {
      "byteLimit": 2048000,
      "rowLimit": 10000
     },
     "inputWidgets": {},
     "nuid": "4a7d8e9c-f13f-417e-ab4a-754b094938df",
     "showTitle": false,
     "tableResultSettingsMap": {},
     "title": ""
    }
   },
   "outputs": [],
   "source": [
    "df = spark.read.csv('abfss://raw@saibdp.dfs.core.windows.net/population_by_age.tsv',sep='\\t',header= True)"
   ]
  },
  {
   "cell_type": "code",
   "execution_count": 0,
   "metadata": {
    "application/vnd.databricks.v1+cell": {
     "cellMetadata": {
      "byteLimit": 2048000,
      "rowLimit": 10000
     },
     "inputWidgets": {},
     "nuid": "29b29b5b-3394-4458-a1b4-4a001aaac690",
     "showTitle": false,
     "tableResultSettingsMap": {},
     "title": ""
    }
   },
   "outputs": [],
   "source": [
    "df1 = df.select('indic_de,geo\\\\time','2019 ')\n",
    "split_col = F.split(df1['indic_de,geo\\\\time'], ',')\n",
    "df1 = df1.withColumn('age_group', split_col.getItem(0))\n",
    "df1 = df1.withColumn('country_code', split_col.getItem(1))\n",
    "df1 = df1.select(*df1.columns[1:])"
   ]
  },
  {
   "cell_type": "code",
   "execution_count": 0,
   "metadata": {
    "application/vnd.databricks.v1+cell": {
     "cellMetadata": {
      "byteLimit": 2048000,
      "rowLimit": 10000
     },
     "inputWidgets": {},
     "nuid": "4d7e9159-ac72-4b1a-b2d9-b4c4f1964d0c",
     "showTitle": false,
     "tableResultSettingsMap": {},
     "title": ""
    }
   },
   "outputs": [
    {
     "output_type": "execute_result",
     "data": {
      "text/plain": [
       "['2019 ', 'age_group', 'country_code']"
      ]
     },
     "execution_count": 11,
     "metadata": {},
     "output_type": "execute_result"
    }
   ],
   "source": [
    "df1.columns"
   ]
  },
  {
   "cell_type": "code",
   "execution_count": 0,
   "metadata": {
    "application/vnd.databricks.v1+cell": {
     "cellMetadata": {
      "byteLimit": 2048000,
      "rowLimit": 10000
     },
     "inputWidgets": {},
     "nuid": "fb08250a-8e9e-4da3-a908-753a57b18c69",
     "showTitle": false,
     "tableResultSettingsMap": {},
     "title": ""
    }
   },
   "outputs": [],
   "source": [
    "new_column_names = ['population_2019', 'age_group', 'country_code']\n",
    "df1 = df1.toDF(*new_column_names)\n",
    "df1 = df1.select('age_group', 'country_code','population_2019')"
   ]
  },
  {
   "cell_type": "code",
   "execution_count": 0,
   "metadata": {
    "application/vnd.databricks.v1+cell": {
     "cellMetadata": {
      "byteLimit": 2048000,
      "rowLimit": 10000
     },
     "inputWidgets": {},
     "nuid": "9b9f9cec-ef16-4560-88d5-5c59e17ee5a6",
     "showTitle": false,
     "tableResultSettingsMap": {},
     "title": ""
    }
   },
   "outputs": [
    {
     "output_type": "display_data",
     "data": {
      "text/html": [
       "<style scoped>\n",
       "  .table-result-container {\n",
       "    max-height: 300px;\n",
       "    overflow: auto;\n",
       "  }\n",
       "  table, th, td {\n",
       "    border: 1px solid black;\n",
       "    border-collapse: collapse;\n",
       "  }\n",
       "  th, td {\n",
       "    padding: 5px;\n",
       "  }\n",
       "  th {\n",
       "    text-align: left;\n",
       "  }\n",
       "</style><div class='table-result-container'><table class='table-result'><thead style='background-color: white'><tr><th>age_group</th><th>country_code</th><th>population_2019</th></tr></thead><tbody><tr><td>Y0_14</td><td>AD</td><td>13</td></tr><tr><td>Y0_14</td><td>AL</td><td>17</td></tr><tr><td>Y0_14</td><td>AM</td><td>20</td></tr><tr><td>Y0_14</td><td>AT</td><td>14</td></tr><tr><td>Y0_14</td><td>AZ</td><td>22</td></tr><tr><td>Y0_14</td><td>BE</td><td>16</td></tr><tr><td>Y0_14</td><td>BG</td><td>14</td></tr><tr><td>Y0_14</td><td>BY</td><td>16</td></tr><tr><td>Y0_14</td><td>CH</td><td>15</td></tr><tr><td>Y0_14</td><td>CY</td><td>16</td></tr><tr><td>Y0_14</td><td>CZ</td><td>15</td></tr><tr><td>Y0_14</td><td>DE</td><td>13</td></tr><tr><td>Y0_14</td><td>DK</td><td>16</td></tr><tr><td>Y0_14</td><td>EE</td><td>16</td></tr><tr><td>Y0_14</td><td>EL</td><td>14</td></tr><tr><td>Y0_14</td><td>ES</td><td>14</td></tr><tr><td>Y0_14</td><td>FI</td><td>16</td></tr><tr><td>Y0_14</td><td>FR</td><td>18</td></tr><tr><td>Y0_14</td><td>FX</td><td>null</td></tr><tr><td>Y0_14</td><td>GE</td><td>20</td></tr><tr><td>Y0_14</td><td>HR</td><td>14</td></tr><tr><td>Y0_14</td><td>HU</td><td>14</td></tr><tr><td>Y0_14</td><td>IE</td><td>20</td></tr><tr><td>Y0_14</td><td>IS</td><td>19</td></tr><tr><td>Y0_14</td><td>IT</td><td>13</td></tr><tr><td>Y0_14</td><td>LI</td><td>14</td></tr><tr><td>Y0_14</td><td>LT</td><td>15</td></tr><tr><td>Y0_14</td><td>LU</td><td>16</td></tr><tr><td>Y0_14</td><td>LV</td><td>15</td></tr><tr><td>Y0_14</td><td>MD</td><td>null</td></tr><tr><td>Y0_14</td><td>ME</td><td>18</td></tr><tr><td>Y0_14</td><td>MK</td><td>16</td></tr><tr><td>Y0_14</td><td>MT</td><td>13</td></tr><tr><td>Y0_14</td><td>NL</td><td>15</td></tr><tr><td>Y0_14</td><td>NO</td><td>17</td></tr><tr><td>Y0_14</td><td>PL</td><td>15</td></tr><tr><td>Y0_14</td><td>PT</td><td>13</td></tr><tr><td>Y0_14</td><td>RO</td><td>15</td></tr><tr><td>Y0_14</td><td>RS</td><td>14</td></tr><tr><td>Y0_14</td><td>RU</td><td>null</td></tr><tr><td>Y0_14</td><td>SE</td><td>17</td></tr><tr><td>Y0_14</td><td>SI</td><td>15</td></tr><tr><td>Y0_14</td><td>SK</td><td>15</td></tr><tr><td>Y0_14</td><td>SM</td><td>null</td></tr><tr><td>Y0_14</td><td>TR</td><td>23</td></tr><tr><td>Y0_14</td><td>UA</td><td>15</td></tr><tr><td>Y0_14</td><td>UK</td><td>17</td></tr><tr><td>Y0_14</td><td>XK</td><td>24</td></tr><tr><td>Y15_24</td><td>AD</td><td>10</td></tr><tr><td>Y15_24</td><td>AL</td><td>15</td></tr><tr><td>Y15_24</td><td>AM</td><td>11</td></tr><tr><td>Y15_24</td><td>AT</td><td>10</td></tr><tr><td>Y15_24</td><td>AZ</td><td>14</td></tr><tr><td>Y15_24</td><td>BE</td><td>11</td></tr><tr><td>Y15_24</td><td>BG</td><td>8</td></tr><tr><td>Y15_24</td><td>BY</td><td>9</td></tr><tr><td>Y15_24</td><td>CH</td><td>10</td></tr><tr><td>Y15_24</td><td>CY</td><td>12</td></tr><tr><td>Y15_24</td><td>CZ</td><td>9</td></tr><tr><td>Y15_24</td><td>DE</td><td>10</td></tr><tr><td>Y15_24</td><td>DK</td><td>12</td></tr><tr><td>Y15_24</td><td>EE</td><td>9</td></tr><tr><td>Y15_24</td><td>EL</td><td>10</td></tr><tr><td>Y15_24</td><td>ES</td><td>9</td></tr><tr><td>Y15_24</td><td>FI</td><td>11</td></tr><tr><td>Y15_24</td><td>FR</td><td>11</td></tr><tr><td>Y15_24</td><td>FX</td><td>null</td></tr><tr><td>Y15_24</td><td>GE</td><td>11</td></tr><tr><td>Y15_24</td><td>HR</td><td>10</td></tr><tr><td>Y15_24</td><td>HU</td><td>10</td></tr><tr><td>Y15_24</td><td>IE</td><td>12</td></tr><tr><td>Y15_24</td><td>IS</td><td>13</td></tr><tr><td>Y15_24</td><td>IT</td><td>9</td></tr><tr><td>Y15_24</td><td>LI</td><td>10</td></tr><tr><td>Y15_24</td><td>LT</td><td>10</td></tr><tr><td>Y15_24</td><td>LU</td><td>11</td></tr><tr><td>Y15_24</td><td>LV</td><td>9</td></tr><tr><td>Y15_24</td><td>MD</td><td>null</td></tr><tr><td>Y15_24</td><td>ME</td><td>13</td></tr><tr><td>Y15_24</td><td>MK</td><td>12</td></tr><tr><td>Y15_24</td><td>MT</td><td>11</td></tr><tr><td>Y15_24</td><td>NL</td><td>12</td></tr><tr><td>Y15_24</td><td>NO</td><td>12</td></tr><tr><td>Y15_24</td><td>PL</td><td>10</td></tr><tr><td>Y15_24</td><td>PT</td><td>10</td></tr><tr><td>Y15_24</td><td>RO</td><td>10</td></tr><tr><td>Y15_24</td><td>RS</td><td>10</td></tr><tr><td>Y15_24</td><td>RU</td><td>null</td></tr><tr><td>Y15_24</td><td>SE</td><td>11</td></tr><tr><td>Y15_24</td><td>SI</td><td>9</td></tr><tr><td>Y15_24</td><td>SK</td><td>10</td></tr><tr><td>Y15_24</td><td>SM</td><td>null</td></tr><tr><td>Y15_24</td><td>TR</td><td>15</td></tr><tr><td>Y15_24</td><td>UA</td><td>9</td></tr><tr><td>Y15_24</td><td>UK</td><td>11</td></tr><tr><td>Y15_24</td><td>XK</td><td>17</td></tr><tr><td>Y25_49</td><td>AD</td><td>39</td></tr><tr><td>Y25_49</td><td>AL</td><td>33</td></tr><tr><td>Y25_49</td><td>AM</td><td>36</td></tr><tr><td>Y25_49</td><td>AT</td><td>34</td></tr><tr><td>Y25_49</td><td>AZ</td><td>39</td></tr><tr><td>Y25_49</td><td>BE</td><td>32</td></tr><tr><td>Y25_49</td><td>BG</td><td>35</td></tr><tr><td>Y25_49</td><td>BY</td><td>36</td></tr><tr><td>Y25_49</td><td>CH</td><td>35</td></tr><tr><td>Y25_49</td><td>CY</td><td>37</td></tr><tr><td>Y25_49</td><td>CZ</td><td>36</td></tr><tr><td>Y25_49</td><td>DE</td><td>31</td></tr><tr><td>Y25_49</td><td>DK</td><td>31</td></tr><tr><td>Y25_49</td><td>EE</td><td>34</td></tr><tr><td>Y25_49</td><td>EL</td><td>33</td></tr><tr><td>Y25_49</td><td>ES</td><td>35</td></tr><tr><td>Y25_49</td><td>FI</td><td>31</td></tr><tr><td>Y25_49</td><td>FR</td><td>31</td></tr><tr><td>Y25_49</td><td>FX</td><td>null</td></tr><tr><td>Y25_49</td><td>GE</td><td>33</td></tr><tr><td>Y25_49</td><td>HR</td><td>32</td></tr><tr><td>Y25_49</td><td>HU</td><td>35</td></tr><tr><td>Y25_49</td><td>IE</td><td>35</td></tr><tr><td>Y25_49</td><td>IS</td><td>35</td></tr><tr><td>Y25_49</td><td>IT</td><td>32</td></tr><tr><td>Y25_49</td><td>LI</td><td>33</td></tr><tr><td>Y25_49</td><td>LT</td><td>32</td></tr><tr><td>Y25_49</td><td>LU</td><td>38</td></tr><tr><td>Y25_49</td><td>LV</td><td>33</td></tr><tr><td>Y25_49</td><td>MD</td><td>null</td></tr><tr><td>Y25_49</td><td>ME</td><td>34</td></tr><tr><td>Y25_49</td><td>MK</td><td>37</td></tr><tr><td>Y25_49</td><td>MT</td><td>38</td></tr><tr><td>Y25_49</td><td>NL</td><td>31</td></tr><tr><td>Y25_49</td><td>NO</td><td>34</td></tr><tr><td>Y25_49</td><td>PL</td><td>37</td></tr><tr><td>Y25_49</td><td>PT</td><td>32</td></tr><tr><td>Y25_49</td><td>RO</td><td>35</td></tr><tr><td>Y25_49</td><td>RS</td><td>33</td></tr><tr><td>Y25_49</td><td>RU</td><td>null</td></tr><tr><td>Y25_49</td><td>SE</td><td>32</td></tr><tr><td>Y25_49</td><td>SI</td><td>34</td></tr><tr><td>Y25_49</td><td>SK</td><td>38</td></tr><tr><td>Y25_49</td><td>SM</td><td>null</td></tr><tr><td>Y25_49</td><td>TR</td><td>37</td></tr><tr><td>Y25_49</td><td>UA</td><td>37</td></tr><tr><td>Y25_49</td><td>UK</td><td>32</td></tr><tr><td>Y25_49</td><td>XK</td><td>35</td></tr><tr><td>Y50_64</td><td>AD</td><td>22</td></tr><tr><td>Y50_64</td><td>AL</td><td>20</td></tr><tr><td>Y50_64</td><td>AM</td><td>19</td></tr><tr><td>Y50_64</td><td>AT</td><td>21</td></tr><tr><td>Y50_64</td><td>AZ</td><td>17</td></tr><tr><td>Y50_64</td><td>BE</td><td>20</td></tr><tr><td>Y50_64</td><td>BG</td><td>20</td></tr><tr><td>Y50_64</td><td>BY</td><td>21</td></tr><tr><td>Y50_64</td><td>CH</td><td>20</td></tr><tr><td>Y50_64</td><td>CY</td><td>17</td></tr><tr><td>Y50_64</td><td>CZ</td><td>18</td></tr><tr><td>Y50_64</td><td>DE</td><td>22</td></tr><tr><td>Y50_64</td><td>DK</td><td>19</td></tr><tr><td>Y50_64</td><td>EE</td><td>19</td></tr><tr><td>Y50_64</td><td>EL</td><td>20</td></tr><tr><td>Y50_64</td><td>ES</td><td>20</td></tr><tr><td>Y50_64</td><td>FI</td><td>19</td></tr><tr><td>Y50_64</td><td>FR</td><td>19</td></tr><tr><td>Y50_64</td><td>FX</td><td>null</td></tr><tr><td>Y50_64</td><td>GE</td><td>19</td></tr><tr><td>Y50_64</td><td>HR</td><td>21</td></tr><tr><td>Y50_64</td><td>HU</td><td>19</td></tr><tr><td>Y50_64</td><td>IE</td><td>17</td></tr><tr><td>Y50_64</td><td>IS</td><td>17</td></tr><tr><td>Y50_64</td><td>IT</td><td>21</td></tr><tr><td>Y50_64</td><td>LI</td><td>23</td></tr><tr><td>Y50_64</td><td>LT</td><td>21</td></tr><tr><td>Y50_64</td><td>LU</td><td>19</td></tr><tr><td>Y50_64</td><td>LV</td><td>20</td></tr><tr><td>Y50_64</td><td>MD</td><td>null</td></tr><tr><td>Y50_64</td><td>ME</td><td>19</td></tr><tr><td>Y50_64</td><td>MK</td><td>19</td></tr><tr><td>Y50_64</td><td>MT</td><td>18</td></tr><tr><td>Y50_64</td><td>NL</td><td>20</td></tr><tr><td>Y50_64</td><td>NO</td><td>18</td></tr><tr><td>Y50_64</td><td>PL</td><td>19</td></tr><tr><td>Y50_64</td><td>PT</td><td>20</td></tr><tr><td>Y50_64</td><td>RO</td><td>19</td></tr><tr><td>Y50_64</td><td>RS</td><td>20</td></tr><tr><td>Y50_64</td><td>RU</td><td>null</td></tr><tr><td>Y50_64</td><td>SE</td><td>18</td></tr><tr><td>Y50_64</td><td>SI</td><td>21</td></tr><tr><td>Y50_64</td><td>SK</td><td>19</td></tr><tr><td>Y50_64</td><td>SM</td><td>null</td></tr><tr><td>Y50_64</td><td>TR</td><td>15</td></tr><tr><td>Y50_64</td><td>UA</td><td>20</td></tr><tr><td>Y50_64</td><td>UK</td><td>19</td></tr><tr><td>Y50_64</td><td>XK</td><td>14</td></tr><tr><td>Y65_79</td><td>AD</td><td>10</td></tr><tr><td>Y65_79</td><td>AL</td><td>11</td></tr><tr><td>Y65_79</td><td>AM</td><td>9</td></tr><tr><td>Y65_79</td><td>AT</td><td>13</td></tr><tr><td>Y65_79</td><td>AZ</td><td>5</td></tr><tr><td>Y65_79</td><td>BE</td><td>13</td></tr><tr><td>Y65_79</td><td>BG</td><td>16</td></tr><tr><td>Y65_79</td><td>BY</td><td>11</td></tr><tr><td>Y65_79</td><td>CH</td><td>13</td></tr><tr><td>Y65_79</td><td>CY</td><td>12</td></tr><tr><td>Y65_79</td><td>CZ</td><td>15</td></tr><tr><td>Y65_79</td><td>DE</td><td>15</td></tr><tr><td>Y65_79</td><td>DK</td><td>15</td></tr><tr><td>Y65_79</td><td>EE</td><td>14</td></tr><tr><td>Y65_79</td><td>EL</td><td>14</td></tr><tr><td>Y65_79</td><td>ES</td><td>13</td></tr><tr><td>Y65_79</td><td>FI</td><td>16</td></tr><tr><td>Y65_79</td><td>FR</td><td>14</td></tr><tr><td>Y65_79</td><td>FX</td><td>null</td></tr><tr><td>Y65_79</td><td>GE</td><td>11</td></tr><tr><td>Y65_79</td><td>HR</td><td>15</td></tr><tr><td>Y65_79</td><td>HU</td><td>14</td></tr><tr><td>Y65_79</td><td>IE</td><td>10</td></tr><tr><td>Y65_79</td><td>IS</td><td>10</td></tr><tr><td>Y65_79</td><td>IT</td><td>15</td></tr><tr><td>Y65_79</td><td>LI</td><td>14</td></tr><tr><td>Y65_79</td><td>LT</td><td>14</td></tr><tr><td>Y65_79</td><td>LU</td><td>10</td></tr><tr><td>Y65_79</td><td>LV</td><td>14</td></tr><tr><td>Y65_79</td><td>MD</td><td>null</td></tr><tr><td>Y65_79</td><td>ME</td><td>11</td></tr><tr><td>Y65_79</td><td>MK</td><td>11</td></tr><tr><td>Y65_79</td><td>MT</td><td>14</td></tr><tr><td>Y65_79</td><td>NL</td><td>14</td></tr><tr><td>Y65_79</td><td>NO</td><td>13</td></tr><tr><td>Y65_79</td><td>PL</td><td>13</td></tr><tr><td>Y65_79</td><td>PT</td><td>15</td></tr><tr><td>Y65_79</td><td>RO</td><td>13</td></tr><tr><td>Y65_79</td><td>RS</td><td>15</td></tr><tr><td>Y65_79</td><td>RU</td><td>null</td></tr><tr><td>Y65_79</td><td>SE</td><td>14</td></tr><tr><td>Y65_79</td><td>SI</td><td>14</td></tr><tr><td>Y65_79</td><td>SK</td><td>12</td></tr><tr><td>Y65_79</td><td>SM</td><td>null</td></tr><tr><td>Y65_79</td><td>TR</td><td>7</td></tr><tr><td>Y65_79</td><td>UA</td><td>12</td></tr><tr><td>Y65_79</td><td>UK</td><td>13</td></tr><tr><td>Y65_79</td><td>XK</td><td>6</td></tr><tr><td>Y80_MAX</td><td>AD</td><td>3</td></tr><tr><td>Y80_MAX</td><td>AL</td><td>2</td></tr><tr><td>Y80_MAX</td><td>AM</td><td>3</td></tr><tr><td>Y80_MAX</td><td>AT</td><td>5</td></tr><tr><td>Y80_MAX</td><td>AZ</td><td>1</td></tr><tr><td>Y80_MAX</td><td>BE</td><td>5</td></tr><tr><td>Y80_MAX</td><td>BG</td><td>4</td></tr><tr><td>Y80_MAX</td><td>BY</td><td>3</td></tr><tr><td>Y80_MAX</td><td>CH</td><td>5</td></tr><tr><td>Y80_MAX</td><td>CY</td><td>3</td></tr><tr><td>Y80_MAX</td><td>CZ</td><td>4</td></tr><tr><td>Y80_MAX</td><td>DE</td><td>6</td></tr><tr><td>Y80_MAX</td><td>DK</td><td>4</td></tr><tr><td>Y80_MAX</td><td>EE</td><td>5</td></tr><tr><td>Y80_MAX</td><td>EL</td><td>7</td></tr><tr><td>Y80_MAX</td><td>ES</td><td>6</td></tr><tr><td>Y80_MAX</td><td>FI</td><td>5</td></tr><tr><td>Y80_MAX</td><td>FR</td><td>6</td></tr><tr><td>Y80_MAX</td><td>FX</td><td>null</td></tr><tr><td>Y80_MAX</td><td>GE</td><td>3</td></tr><tr><td>Y80_MAX</td><td>HR</td><td>5</td></tr><tr><td>Y80_MAX</td><td>HU</td><td>4</td></tr><tr><td>Y80_MAX</td><td>IE</td><td>3</td></tr><tr><td>Y80_MAX</td><td>IS</td><td>3</td></tr><tr><td>Y80_MAX</td><td>IT</td><td>7</td></tr><tr><td>Y80_MAX</td><td>LI</td><td>3</td></tr><tr><td>Y80_MAX</td><td>LT</td><td>5</td></tr><tr><td>Y80_MAX</td><td>LU</td><td>4</td></tr><tr><td>Y80_MAX</td><td>LV</td><td>5</td></tr><tr><td>Y80_MAX</td><td>MD</td><td>null</td></tr><tr><td>Y80_MAX</td><td>ME</td><td>3</td></tr><tr><td>Y80_MAX</td><td>MK</td><td>2</td></tr><tr><td>Y80_MAX</td><td>MT</td><td>4</td></tr><tr><td>Y80_MAX</td><td>NL</td><td>4</td></tr><tr><td>Y80_MAX</td><td>NO</td><td>4</td></tr><tr><td>Y80_MAX</td><td>PL</td><td>4</td></tr><tr><td>Y80_MAX</td><td>PT</td><td>6</td></tr><tr><td>Y80_MAX</td><td>RO</td><td>4</td></tr><tr><td>Y80_MAX</td><td>RS</td><td>4</td></tr><tr><td>Y80_MAX</td><td>RU</td><td>null</td></tr><tr><td>Y80_MAX</td><td>SE</td><td>5</td></tr><tr><td>Y80_MAX</td><td>SI</td><td>5</td></tr><tr><td>Y80_MAX</td><td>SK</td><td>3</td></tr><tr><td>Y80_MAX</td><td>SM</td><td>null</td></tr><tr><td>Y80_MAX</td><td>TR</td><td>1</td></tr><tr><td>Y80_MAX</td><td>UA</td><td>4</td></tr><tr><td>Y80_MAX</td><td>UK</td><td>5</td></tr><tr><td>Y80_MAX</td><td>XK</td><td>1</td></tr></tbody></table></div>"
      ]
     },
     "metadata": {
      "application/vnd.databricks.v1+output": {
       "addedWidgets": {},
       "aggData": [],
       "aggError": "",
       "aggOverflow": false,
       "aggSchema": [],
       "aggSeriesLimitReached": false,
       "aggType": "",
       "arguments": {},
       "columnCustomDisplayInfos": {},
       "data": [
        [
         "Y0_14",
         "AD",
         "13"
        ],
        [
         "Y0_14",
         "AL",
         "17"
        ],
        [
         "Y0_14",
         "AM",
         "20"
        ],
        [
         "Y0_14",
         "AT",
         "14"
        ],
        [
         "Y0_14",
         "AZ",
         "22"
        ],
        [
         "Y0_14",
         "BE",
         "16"
        ],
        [
         "Y0_14",
         "BG",
         "14"
        ],
        [
         "Y0_14",
         "BY",
         "16"
        ],
        [
         "Y0_14",
         "CH",
         "15"
        ],
        [
         "Y0_14",
         "CY",
         "16"
        ],
        [
         "Y0_14",
         "CZ",
         "15"
        ],
        [
         "Y0_14",
         "DE",
         "13"
        ],
        [
         "Y0_14",
         "DK",
         "16"
        ],
        [
         "Y0_14",
         "EE",
         "16"
        ],
        [
         "Y0_14",
         "EL",
         "14"
        ],
        [
         "Y0_14",
         "ES",
         "14"
        ],
        [
         "Y0_14",
         "FI",
         "16"
        ],
        [
         "Y0_14",
         "FR",
         "18"
        ],
        [
         "Y0_14",
         "FX",
         null
        ],
        [
         "Y0_14",
         "GE",
         "20"
        ],
        [
         "Y0_14",
         "HR",
         "14"
        ],
        [
         "Y0_14",
         "HU",
         "14"
        ],
        [
         "Y0_14",
         "IE",
         "20"
        ],
        [
         "Y0_14",
         "IS",
         "19"
        ],
        [
         "Y0_14",
         "IT",
         "13"
        ],
        [
         "Y0_14",
         "LI",
         "14"
        ],
        [
         "Y0_14",
         "LT",
         "15"
        ],
        [
         "Y0_14",
         "LU",
         "16"
        ],
        [
         "Y0_14",
         "LV",
         "15"
        ],
        [
         "Y0_14",
         "MD",
         null
        ],
        [
         "Y0_14",
         "ME",
         "18"
        ],
        [
         "Y0_14",
         "MK",
         "16"
        ],
        [
         "Y0_14",
         "MT",
         "13"
        ],
        [
         "Y0_14",
         "NL",
         "15"
        ],
        [
         "Y0_14",
         "NO",
         "17"
        ],
        [
         "Y0_14",
         "PL",
         "15"
        ],
        [
         "Y0_14",
         "PT",
         "13"
        ],
        [
         "Y0_14",
         "RO",
         "15"
        ],
        [
         "Y0_14",
         "RS",
         "14"
        ],
        [
         "Y0_14",
         "RU",
         null
        ],
        [
         "Y0_14",
         "SE",
         "17"
        ],
        [
         "Y0_14",
         "SI",
         "15"
        ],
        [
         "Y0_14",
         "SK",
         "15"
        ],
        [
         "Y0_14",
         "SM",
         null
        ],
        [
         "Y0_14",
         "TR",
         "23"
        ],
        [
         "Y0_14",
         "UA",
         "15"
        ],
        [
         "Y0_14",
         "UK",
         "17"
        ],
        [
         "Y0_14",
         "XK",
         "24"
        ],
        [
         "Y15_24",
         "AD",
         "10"
        ],
        [
         "Y15_24",
         "AL",
         "15"
        ],
        [
         "Y15_24",
         "AM",
         "11"
        ],
        [
         "Y15_24",
         "AT",
         "10"
        ],
        [
         "Y15_24",
         "AZ",
         "14"
        ],
        [
         "Y15_24",
         "BE",
         "11"
        ],
        [
         "Y15_24",
         "BG",
         "8"
        ],
        [
         "Y15_24",
         "BY",
         "9"
        ],
        [
         "Y15_24",
         "CH",
         "10"
        ],
        [
         "Y15_24",
         "CY",
         "12"
        ],
        [
         "Y15_24",
         "CZ",
         "9"
        ],
        [
         "Y15_24",
         "DE",
         "10"
        ],
        [
         "Y15_24",
         "DK",
         "12"
        ],
        [
         "Y15_24",
         "EE",
         "9"
        ],
        [
         "Y15_24",
         "EL",
         "10"
        ],
        [
         "Y15_24",
         "ES",
         "9"
        ],
        [
         "Y15_24",
         "FI",
         "11"
        ],
        [
         "Y15_24",
         "FR",
         "11"
        ],
        [
         "Y15_24",
         "FX",
         null
        ],
        [
         "Y15_24",
         "GE",
         "11"
        ],
        [
         "Y15_24",
         "HR",
         "10"
        ],
        [
         "Y15_24",
         "HU",
         "10"
        ],
        [
         "Y15_24",
         "IE",
         "12"
        ],
        [
         "Y15_24",
         "IS",
         "13"
        ],
        [
         "Y15_24",
         "IT",
         "9"
        ],
        [
         "Y15_24",
         "LI",
         "10"
        ],
        [
         "Y15_24",
         "LT",
         "10"
        ],
        [
         "Y15_24",
         "LU",
         "11"
        ],
        [
         "Y15_24",
         "LV",
         "9"
        ],
        [
         "Y15_24",
         "MD",
         null
        ],
        [
         "Y15_24",
         "ME",
         "13"
        ],
        [
         "Y15_24",
         "MK",
         "12"
        ],
        [
         "Y15_24",
         "MT",
         "11"
        ],
        [
         "Y15_24",
         "NL",
         "12"
        ],
        [
         "Y15_24",
         "NO",
         "12"
        ],
        [
         "Y15_24",
         "PL",
         "10"
        ],
        [
         "Y15_24",
         "PT",
         "10"
        ],
        [
         "Y15_24",
         "RO",
         "10"
        ],
        [
         "Y15_24",
         "RS",
         "10"
        ],
        [
         "Y15_24",
         "RU",
         null
        ],
        [
         "Y15_24",
         "SE",
         "11"
        ],
        [
         "Y15_24",
         "SI",
         "9"
        ],
        [
         "Y15_24",
         "SK",
         "10"
        ],
        [
         "Y15_24",
         "SM",
         null
        ],
        [
         "Y15_24",
         "TR",
         "15"
        ],
        [
         "Y15_24",
         "UA",
         "9"
        ],
        [
         "Y15_24",
         "UK",
         "11"
        ],
        [
         "Y15_24",
         "XK",
         "17"
        ],
        [
         "Y25_49",
         "AD",
         "39"
        ],
        [
         "Y25_49",
         "AL",
         "33"
        ],
        [
         "Y25_49",
         "AM",
         "36"
        ],
        [
         "Y25_49",
         "AT",
         "34"
        ],
        [
         "Y25_49",
         "AZ",
         "39"
        ],
        [
         "Y25_49",
         "BE",
         "32"
        ],
        [
         "Y25_49",
         "BG",
         "35"
        ],
        [
         "Y25_49",
         "BY",
         "36"
        ],
        [
         "Y25_49",
         "CH",
         "35"
        ],
        [
         "Y25_49",
         "CY",
         "37"
        ],
        [
         "Y25_49",
         "CZ",
         "36"
        ],
        [
         "Y25_49",
         "DE",
         "31"
        ],
        [
         "Y25_49",
         "DK",
         "31"
        ],
        [
         "Y25_49",
         "EE",
         "34"
        ],
        [
         "Y25_49",
         "EL",
         "33"
        ],
        [
         "Y25_49",
         "ES",
         "35"
        ],
        [
         "Y25_49",
         "FI",
         "31"
        ],
        [
         "Y25_49",
         "FR",
         "31"
        ],
        [
         "Y25_49",
         "FX",
         null
        ],
        [
         "Y25_49",
         "GE",
         "33"
        ],
        [
         "Y25_49",
         "HR",
         "32"
        ],
        [
         "Y25_49",
         "HU",
         "35"
        ],
        [
         "Y25_49",
         "IE",
         "35"
        ],
        [
         "Y25_49",
         "IS",
         "35"
        ],
        [
         "Y25_49",
         "IT",
         "32"
        ],
        [
         "Y25_49",
         "LI",
         "33"
        ],
        [
         "Y25_49",
         "LT",
         "32"
        ],
        [
         "Y25_49",
         "LU",
         "38"
        ],
        [
         "Y25_49",
         "LV",
         "33"
        ],
        [
         "Y25_49",
         "MD",
         null
        ],
        [
         "Y25_49",
         "ME",
         "34"
        ],
        [
         "Y25_49",
         "MK",
         "37"
        ],
        [
         "Y25_49",
         "MT",
         "38"
        ],
        [
         "Y25_49",
         "NL",
         "31"
        ],
        [
         "Y25_49",
         "NO",
         "34"
        ],
        [
         "Y25_49",
         "PL",
         "37"
        ],
        [
         "Y25_49",
         "PT",
         "32"
        ],
        [
         "Y25_49",
         "RO",
         "35"
        ],
        [
         "Y25_49",
         "RS",
         "33"
        ],
        [
         "Y25_49",
         "RU",
         null
        ],
        [
         "Y25_49",
         "SE",
         "32"
        ],
        [
         "Y25_49",
         "SI",
         "34"
        ],
        [
         "Y25_49",
         "SK",
         "38"
        ],
        [
         "Y25_49",
         "SM",
         null
        ],
        [
         "Y25_49",
         "TR",
         "37"
        ],
        [
         "Y25_49",
         "UA",
         "37"
        ],
        [
         "Y25_49",
         "UK",
         "32"
        ],
        [
         "Y25_49",
         "XK",
         "35"
        ],
        [
         "Y50_64",
         "AD",
         "22"
        ],
        [
         "Y50_64",
         "AL",
         "20"
        ],
        [
         "Y50_64",
         "AM",
         "19"
        ],
        [
         "Y50_64",
         "AT",
         "21"
        ],
        [
         "Y50_64",
         "AZ",
         "17"
        ],
        [
         "Y50_64",
         "BE",
         "20"
        ],
        [
         "Y50_64",
         "BG",
         "20"
        ],
        [
         "Y50_64",
         "BY",
         "21"
        ],
        [
         "Y50_64",
         "CH",
         "20"
        ],
        [
         "Y50_64",
         "CY",
         "17"
        ],
        [
         "Y50_64",
         "CZ",
         "18"
        ],
        [
         "Y50_64",
         "DE",
         "22"
        ],
        [
         "Y50_64",
         "DK",
         "19"
        ],
        [
         "Y50_64",
         "EE",
         "19"
        ],
        [
         "Y50_64",
         "EL",
         "20"
        ],
        [
         "Y50_64",
         "ES",
         "20"
        ],
        [
         "Y50_64",
         "FI",
         "19"
        ],
        [
         "Y50_64",
         "FR",
         "19"
        ],
        [
         "Y50_64",
         "FX",
         null
        ],
        [
         "Y50_64",
         "GE",
         "19"
        ],
        [
         "Y50_64",
         "HR",
         "21"
        ],
        [
         "Y50_64",
         "HU",
         "19"
        ],
        [
         "Y50_64",
         "IE",
         "17"
        ],
        [
         "Y50_64",
         "IS",
         "17"
        ],
        [
         "Y50_64",
         "IT",
         "21"
        ],
        [
         "Y50_64",
         "LI",
         "23"
        ],
        [
         "Y50_64",
         "LT",
         "21"
        ],
        [
         "Y50_64",
         "LU",
         "19"
        ],
        [
         "Y50_64",
         "LV",
         "20"
        ],
        [
         "Y50_64",
         "MD",
         null
        ],
        [
         "Y50_64",
         "ME",
         "19"
        ],
        [
         "Y50_64",
         "MK",
         "19"
        ],
        [
         "Y50_64",
         "MT",
         "18"
        ],
        [
         "Y50_64",
         "NL",
         "20"
        ],
        [
         "Y50_64",
         "NO",
         "18"
        ],
        [
         "Y50_64",
         "PL",
         "19"
        ],
        [
         "Y50_64",
         "PT",
         "20"
        ],
        [
         "Y50_64",
         "RO",
         "19"
        ],
        [
         "Y50_64",
         "RS",
         "20"
        ],
        [
         "Y50_64",
         "RU",
         null
        ],
        [
         "Y50_64",
         "SE",
         "18"
        ],
        [
         "Y50_64",
         "SI",
         "21"
        ],
        [
         "Y50_64",
         "SK",
         "19"
        ],
        [
         "Y50_64",
         "SM",
         null
        ],
        [
         "Y50_64",
         "TR",
         "15"
        ],
        [
         "Y50_64",
         "UA",
         "20"
        ],
        [
         "Y50_64",
         "UK",
         "19"
        ],
        [
         "Y50_64",
         "XK",
         "14"
        ],
        [
         "Y65_79",
         "AD",
         "10"
        ],
        [
         "Y65_79",
         "AL",
         "11"
        ],
        [
         "Y65_79",
         "AM",
         "9"
        ],
        [
         "Y65_79",
         "AT",
         "13"
        ],
        [
         "Y65_79",
         "AZ",
         "5"
        ],
        [
         "Y65_79",
         "BE",
         "13"
        ],
        [
         "Y65_79",
         "BG",
         "16"
        ],
        [
         "Y65_79",
         "BY",
         "11"
        ],
        [
         "Y65_79",
         "CH",
         "13"
        ],
        [
         "Y65_79",
         "CY",
         "12"
        ],
        [
         "Y65_79",
         "CZ",
         "15"
        ],
        [
         "Y65_79",
         "DE",
         "15"
        ],
        [
         "Y65_79",
         "DK",
         "15"
        ],
        [
         "Y65_79",
         "EE",
         "14"
        ],
        [
         "Y65_79",
         "EL",
         "14"
        ],
        [
         "Y65_79",
         "ES",
         "13"
        ],
        [
         "Y65_79",
         "FI",
         "16"
        ],
        [
         "Y65_79",
         "FR",
         "14"
        ],
        [
         "Y65_79",
         "FX",
         null
        ],
        [
         "Y65_79",
         "GE",
         "11"
        ],
        [
         "Y65_79",
         "HR",
         "15"
        ],
        [
         "Y65_79",
         "HU",
         "14"
        ],
        [
         "Y65_79",
         "IE",
         "10"
        ],
        [
         "Y65_79",
         "IS",
         "10"
        ],
        [
         "Y65_79",
         "IT",
         "15"
        ],
        [
         "Y65_79",
         "LI",
         "14"
        ],
        [
         "Y65_79",
         "LT",
         "14"
        ],
        [
         "Y65_79",
         "LU",
         "10"
        ],
        [
         "Y65_79",
         "LV",
         "14"
        ],
        [
         "Y65_79",
         "MD",
         null
        ],
        [
         "Y65_79",
         "ME",
         "11"
        ],
        [
         "Y65_79",
         "MK",
         "11"
        ],
        [
         "Y65_79",
         "MT",
         "14"
        ],
        [
         "Y65_79",
         "NL",
         "14"
        ],
        [
         "Y65_79",
         "NO",
         "13"
        ],
        [
         "Y65_79",
         "PL",
         "13"
        ],
        [
         "Y65_79",
         "PT",
         "15"
        ],
        [
         "Y65_79",
         "RO",
         "13"
        ],
        [
         "Y65_79",
         "RS",
         "15"
        ],
        [
         "Y65_79",
         "RU",
         null
        ],
        [
         "Y65_79",
         "SE",
         "14"
        ],
        [
         "Y65_79",
         "SI",
         "14"
        ],
        [
         "Y65_79",
         "SK",
         "12"
        ],
        [
         "Y65_79",
         "SM",
         null
        ],
        [
         "Y65_79",
         "TR",
         "7"
        ],
        [
         "Y65_79",
         "UA",
         "12"
        ],
        [
         "Y65_79",
         "UK",
         "13"
        ],
        [
         "Y65_79",
         "XK",
         "6"
        ],
        [
         "Y80_MAX",
         "AD",
         "3"
        ],
        [
         "Y80_MAX",
         "AL",
         "2"
        ],
        [
         "Y80_MAX",
         "AM",
         "3"
        ],
        [
         "Y80_MAX",
         "AT",
         "5"
        ],
        [
         "Y80_MAX",
         "AZ",
         "1"
        ],
        [
         "Y80_MAX",
         "BE",
         "5"
        ],
        [
         "Y80_MAX",
         "BG",
         "4"
        ],
        [
         "Y80_MAX",
         "BY",
         "3"
        ],
        [
         "Y80_MAX",
         "CH",
         "5"
        ],
        [
         "Y80_MAX",
         "CY",
         "3"
        ],
        [
         "Y80_MAX",
         "CZ",
         "4"
        ],
        [
         "Y80_MAX",
         "DE",
         "6"
        ],
        [
         "Y80_MAX",
         "DK",
         "4"
        ],
        [
         "Y80_MAX",
         "EE",
         "5"
        ],
        [
         "Y80_MAX",
         "EL",
         "7"
        ],
        [
         "Y80_MAX",
         "ES",
         "6"
        ],
        [
         "Y80_MAX",
         "FI",
         "5"
        ],
        [
         "Y80_MAX",
         "FR",
         "6"
        ],
        [
         "Y80_MAX",
         "FX",
         null
        ],
        [
         "Y80_MAX",
         "GE",
         "3"
        ],
        [
         "Y80_MAX",
         "HR",
         "5"
        ],
        [
         "Y80_MAX",
         "HU",
         "4"
        ],
        [
         "Y80_MAX",
         "IE",
         "3"
        ],
        [
         "Y80_MAX",
         "IS",
         "3"
        ],
        [
         "Y80_MAX",
         "IT",
         "7"
        ],
        [
         "Y80_MAX",
         "LI",
         "3"
        ],
        [
         "Y80_MAX",
         "LT",
         "5"
        ],
        [
         "Y80_MAX",
         "LU",
         "4"
        ],
        [
         "Y80_MAX",
         "LV",
         "5"
        ],
        [
         "Y80_MAX",
         "MD",
         null
        ],
        [
         "Y80_MAX",
         "ME",
         "3"
        ],
        [
         "Y80_MAX",
         "MK",
         "2"
        ],
        [
         "Y80_MAX",
         "MT",
         "4"
        ],
        [
         "Y80_MAX",
         "NL",
         "4"
        ],
        [
         "Y80_MAX",
         "NO",
         "4"
        ],
        [
         "Y80_MAX",
         "PL",
         "4"
        ],
        [
         "Y80_MAX",
         "PT",
         "6"
        ],
        [
         "Y80_MAX",
         "RO",
         "4"
        ],
        [
         "Y80_MAX",
         "RS",
         "4"
        ],
        [
         "Y80_MAX",
         "RU",
         null
        ],
        [
         "Y80_MAX",
         "SE",
         "5"
        ],
        [
         "Y80_MAX",
         "SI",
         "5"
        ],
        [
         "Y80_MAX",
         "SK",
         "3"
        ],
        [
         "Y80_MAX",
         "SM",
         null
        ],
        [
         "Y80_MAX",
         "TR",
         "1"
        ],
        [
         "Y80_MAX",
         "UA",
         "4"
        ],
        [
         "Y80_MAX",
         "UK",
         "5"
        ],
        [
         "Y80_MAX",
         "XK",
         "1"
        ]
       ],
       "datasetInfos": [],
       "dbfsResultPath": null,
       "isJsonSchema": true,
       "metadata": {},
       "overflow": false,
       "plotOptions": {
        "customPlotOptions": {},
        "displayType": "table",
        "pivotAggregation": null,
        "pivotColumns": null,
        "xColumns": null,
        "yColumns": null
       },
       "removedWidgets": [],
       "schema": [
        {
         "metadata": "{}",
         "name": "age_group",
         "type": "\"string\""
        },
        {
         "metadata": "{}",
         "name": "country_code",
         "type": "\"string\""
        },
        {
         "metadata": "{}",
         "name": "population_2019",
         "type": "\"string\""
        }
       ],
       "type": "table"
      }
     },
     "output_type": "display_data"
    }
   ],
   "source": [
    "df1.createOrReplaceTempView(\"population_data\")\n",
    "\n",
    "# Use SQL to filter and clean the data\n",
    "result_df = spark.sql(\"\"\"\n",
    "    SELECT REGEXP_REPLACE(age_group,'^PC_', '') AS age_group, \n",
    "           country_code, \n",
    "           regexp_replace(population_2019, '[^0-9.]', '') AS population_2019\n",
    "    FROM population_data\n",
    "    WHERE length(country_code) <= 2\n",
    "\"\"\")\n",
    "display(result_df)"
   ]
  },
  {
   "cell_type": "code",
   "execution_count": 0,
   "metadata": {
    "application/vnd.databricks.v1+cell": {
     "cellMetadata": {
      "byteLimit": 2048000,
      "rowLimit": 10000
     },
     "inputWidgets": {},
     "nuid": "153ff881-c2bb-453b-a985-1e6dad77eb84",
     "showTitle": false,
     "tableResultSettingsMap": {},
     "title": ""
    }
   },
   "outputs": [],
   "source": [
    "df1 = result_df.withColumn(\"population_2019\", F.col(\"population_2019\").cast(\"int\"))"
   ]
  },
  {
   "cell_type": "code",
   "execution_count": 0,
   "metadata": {
    "application/vnd.databricks.v1+cell": {
     "cellMetadata": {
      "byteLimit": 2048000,
      "rowLimit": 10000
     },
     "inputWidgets": {},
     "nuid": "1a682904-d9a0-4b95-9a8d-8df9a9cd08c1",
     "showTitle": false,
     "tableResultSettingsMap": {},
     "title": ""
    }
   },
   "outputs": [
    {
     "output_type": "display_data",
     "data": {
      "text/html": [
       "<style scoped>\n",
       "  .table-result-container {\n",
       "    max-height: 300px;\n",
       "    overflow: auto;\n",
       "  }\n",
       "  table, th, td {\n",
       "    border: 1px solid black;\n",
       "    border-collapse: collapse;\n",
       "  }\n",
       "  th, td {\n",
       "    padding: 5px;\n",
       "  }\n",
       "  th {\n",
       "    text-align: left;\n",
       "  }\n",
       "</style><div class='table-result-container'><table class='table-result'><thead style='background-color: white'><tr><th>country_code</th><th>Y0_14</th><th>Y15_24</th><th>Y25_49</th><th>Y50_64</th><th>Y65_79</th><th>Y80_MAX</th></tr></thead><tbody><tr><td>LT</td><td>15</td><td>10</td><td>32</td><td>21</td><td>14</td><td>5</td></tr><tr><td>AZ</td><td>22</td><td>14</td><td>39</td><td>17</td><td>5</td><td>1</td></tr><tr><td>FI</td><td>16</td><td>11</td><td>31</td><td>19</td><td>16</td><td>5</td></tr><tr><td>UA</td><td>15</td><td>9</td><td>37</td><td>20</td><td>12</td><td>4</td></tr><tr><td>RO</td><td>15</td><td>10</td><td>35</td><td>19</td><td>13</td><td>4</td></tr><tr><td>NL</td><td>15</td><td>12</td><td>31</td><td>20</td><td>14</td><td>4</td></tr><tr><td>AM</td><td>20</td><td>11</td><td>36</td><td>19</td><td>9</td><td>3</td></tr><tr><td>PL</td><td>15</td><td>10</td><td>37</td><td>19</td><td>13</td><td>4</td></tr><tr><td>MK</td><td>16</td><td>12</td><td>37</td><td>19</td><td>11</td><td>2</td></tr><tr><td>EE</td><td>16</td><td>9</td><td>34</td><td>19</td><td>14</td><td>5</td></tr><tr><td>SM</td><td>null</td><td>null</td><td>null</td><td>null</td><td>null</td><td>null</td></tr><tr><td>AT</td><td>14</td><td>10</td><td>34</td><td>21</td><td>13</td><td>5</td></tr><tr><td>RU</td><td>null</td><td>null</td><td>null</td><td>null</td><td>null</td><td>null</td></tr><tr><td>AD</td><td>13</td><td>10</td><td>39</td><td>22</td><td>10</td><td>3</td></tr><tr><td>LI</td><td>14</td><td>10</td><td>33</td><td>23</td><td>14</td><td>3</td></tr><tr><td>HR</td><td>14</td><td>10</td><td>32</td><td>21</td><td>15</td><td>5</td></tr><tr><td>CZ</td><td>15</td><td>9</td><td>36</td><td>18</td><td>15</td><td>4</td></tr><tr><td>PT</td><td>13</td><td>10</td><td>32</td><td>20</td><td>15</td><td>6</td></tr><tr><td>MT</td><td>13</td><td>11</td><td>38</td><td>18</td><td>14</td><td>4</td></tr><tr><td>BY</td><td>16</td><td>9</td><td>36</td><td>21</td><td>11</td><td>3</td></tr><tr><td>MD</td><td>null</td><td>null</td><td>null</td><td>null</td><td>null</td><td>null</td></tr><tr><td>DE</td><td>13</td><td>10</td><td>31</td><td>22</td><td>15</td><td>6</td></tr><tr><td>ES</td><td>14</td><td>9</td><td>35</td><td>20</td><td>13</td><td>6</td></tr><tr><td>ME</td><td>18</td><td>13</td><td>34</td><td>19</td><td>11</td><td>3</td></tr><tr><td>TR</td><td>23</td><td>15</td><td>37</td><td>15</td><td>7</td><td>1</td></tr><tr><td>RS</td><td>14</td><td>10</td><td>33</td><td>20</td><td>15</td><td>4</td></tr><tr><td>FX</td><td>null</td><td>null</td><td>null</td><td>null</td><td>null</td><td>null</td></tr><tr><td>AL</td><td>17</td><td>15</td><td>33</td><td>20</td><td>11</td><td>2</td></tr><tr><td>FR</td><td>18</td><td>11</td><td>31</td><td>19</td><td>14</td><td>6</td></tr><tr><td>CH</td><td>15</td><td>10</td><td>35</td><td>20</td><td>13</td><td>5</td></tr><tr><td>IT</td><td>13</td><td>9</td><td>32</td><td>21</td><td>15</td><td>7</td></tr><tr><td>SE</td><td>17</td><td>11</td><td>32</td><td>18</td><td>14</td><td>5</td></tr><tr><td>BG</td><td>14</td><td>8</td><td>35</td><td>20</td><td>16</td><td>4</td></tr><tr><td>GE</td><td>20</td><td>11</td><td>33</td><td>19</td><td>11</td><td>3</td></tr><tr><td>SK</td><td>15</td><td>10</td><td>38</td><td>19</td><td>12</td><td>3</td></tr><tr><td>UK</td><td>17</td><td>11</td><td>32</td><td>19</td><td>13</td><td>5</td></tr><tr><td>LV</td><td>15</td><td>9</td><td>33</td><td>20</td><td>14</td><td>5</td></tr><tr><td>XK</td><td>24</td><td>17</td><td>35</td><td>14</td><td>6</td><td>1</td></tr><tr><td>HU</td><td>14</td><td>10</td><td>35</td><td>19</td><td>14</td><td>4</td></tr><tr><td>CY</td><td>16</td><td>12</td><td>37</td><td>17</td><td>12</td><td>3</td></tr><tr><td>SI</td><td>15</td><td>9</td><td>34</td><td>21</td><td>14</td><td>5</td></tr><tr><td>IE</td><td>20</td><td>12</td><td>35</td><td>17</td><td>10</td><td>3</td></tr><tr><td>EL</td><td>14</td><td>10</td><td>33</td><td>20</td><td>14</td><td>7</td></tr><tr><td>BE</td><td>16</td><td>11</td><td>32</td><td>20</td><td>13</td><td>5</td></tr><tr><td>NO</td><td>17</td><td>12</td><td>34</td><td>18</td><td>13</td><td>4</td></tr><tr><td>LU</td><td>16</td><td>11</td><td>38</td><td>19</td><td>10</td><td>4</td></tr><tr><td>IS</td><td>19</td><td>13</td><td>35</td><td>17</td><td>10</td><td>3</td></tr><tr><td>DK</td><td>16</td><td>12</td><td>31</td><td>19</td><td>15</td><td>4</td></tr></tbody></table></div>"
      ]
     },
     "metadata": {
      "application/vnd.databricks.v1+output": {
       "addedWidgets": {},
       "aggData": [],
       "aggError": "",
       "aggOverflow": false,
       "aggSchema": [],
       "aggSeriesLimitReached": false,
       "aggType": "",
       "arguments": {},
       "columnCustomDisplayInfos": {},
       "data": [
        [
         "LT",
         15,
         10,
         32,
         21,
         14,
         5
        ],
        [
         "AZ",
         22,
         14,
         39,
         17,
         5,
         1
        ],
        [
         "FI",
         16,
         11,
         31,
         19,
         16,
         5
        ],
        [
         "UA",
         15,
         9,
         37,
         20,
         12,
         4
        ],
        [
         "RO",
         15,
         10,
         35,
         19,
         13,
         4
        ],
        [
         "NL",
         15,
         12,
         31,
         20,
         14,
         4
        ],
        [
         "AM",
         20,
         11,
         36,
         19,
         9,
         3
        ],
        [
         "PL",
         15,
         10,
         37,
         19,
         13,
         4
        ],
        [
         "MK",
         16,
         12,
         37,
         19,
         11,
         2
        ],
        [
         "EE",
         16,
         9,
         34,
         19,
         14,
         5
        ],
        [
         "SM",
         null,
         null,
         null,
         null,
         null,
         null
        ],
        [
         "AT",
         14,
         10,
         34,
         21,
         13,
         5
        ],
        [
         "RU",
         null,
         null,
         null,
         null,
         null,
         null
        ],
        [
         "AD",
         13,
         10,
         39,
         22,
         10,
         3
        ],
        [
         "LI",
         14,
         10,
         33,
         23,
         14,
         3
        ],
        [
         "HR",
         14,
         10,
         32,
         21,
         15,
         5
        ],
        [
         "CZ",
         15,
         9,
         36,
         18,
         15,
         4
        ],
        [
         "PT",
         13,
         10,
         32,
         20,
         15,
         6
        ],
        [
         "MT",
         13,
         11,
         38,
         18,
         14,
         4
        ],
        [
         "BY",
         16,
         9,
         36,
         21,
         11,
         3
        ],
        [
         "MD",
         null,
         null,
         null,
         null,
         null,
         null
        ],
        [
         "DE",
         13,
         10,
         31,
         22,
         15,
         6
        ],
        [
         "ES",
         14,
         9,
         35,
         20,
         13,
         6
        ],
        [
         "ME",
         18,
         13,
         34,
         19,
         11,
         3
        ],
        [
         "TR",
         23,
         15,
         37,
         15,
         7,
         1
        ],
        [
         "RS",
         14,
         10,
         33,
         20,
         15,
         4
        ],
        [
         "FX",
         null,
         null,
         null,
         null,
         null,
         null
        ],
        [
         "AL",
         17,
         15,
         33,
         20,
         11,
         2
        ],
        [
         "FR",
         18,
         11,
         31,
         19,
         14,
         6
        ],
        [
         "CH",
         15,
         10,
         35,
         20,
         13,
         5
        ],
        [
         "IT",
         13,
         9,
         32,
         21,
         15,
         7
        ],
        [
         "SE",
         17,
         11,
         32,
         18,
         14,
         5
        ],
        [
         "BG",
         14,
         8,
         35,
         20,
         16,
         4
        ],
        [
         "GE",
         20,
         11,
         33,
         19,
         11,
         3
        ],
        [
         "SK",
         15,
         10,
         38,
         19,
         12,
         3
        ],
        [
         "UK",
         17,
         11,
         32,
         19,
         13,
         5
        ],
        [
         "LV",
         15,
         9,
         33,
         20,
         14,
         5
        ],
        [
         "XK",
         24,
         17,
         35,
         14,
         6,
         1
        ],
        [
         "HU",
         14,
         10,
         35,
         19,
         14,
         4
        ],
        [
         "CY",
         16,
         12,
         37,
         17,
         12,
         3
        ],
        [
         "SI",
         15,
         9,
         34,
         21,
         14,
         5
        ],
        [
         "IE",
         20,
         12,
         35,
         17,
         10,
         3
        ],
        [
         "EL",
         14,
         10,
         33,
         20,
         14,
         7
        ],
        [
         "BE",
         16,
         11,
         32,
         20,
         13,
         5
        ],
        [
         "NO",
         17,
         12,
         34,
         18,
         13,
         4
        ],
        [
         "LU",
         16,
         11,
         38,
         19,
         10,
         4
        ],
        [
         "IS",
         19,
         13,
         35,
         17,
         10,
         3
        ],
        [
         "DK",
         16,
         12,
         31,
         19,
         15,
         4
        ]
       ],
       "datasetInfos": [],
       "dbfsResultPath": null,
       "isJsonSchema": true,
       "metadata": {},
       "overflow": false,
       "plotOptions": {
        "customPlotOptions": {},
        "displayType": "table",
        "pivotAggregation": null,
        "pivotColumns": null,
        "xColumns": null,
        "yColumns": null
       },
       "removedWidgets": [],
       "schema": [
        {
         "metadata": "{}",
         "name": "country_code",
         "type": "\"string\""
        },
        {
         "metadata": "{}",
         "name": "Y0_14",
         "type": "\"long\""
        },
        {
         "metadata": "{}",
         "name": "Y15_24",
         "type": "\"long\""
        },
        {
         "metadata": "{}",
         "name": "Y25_49",
         "type": "\"long\""
        },
        {
         "metadata": "{}",
         "name": "Y50_64",
         "type": "\"long\""
        },
        {
         "metadata": "{}",
         "name": "Y65_79",
         "type": "\"long\""
        },
        {
         "metadata": "{}",
         "name": "Y80_MAX",
         "type": "\"long\""
        }
       ],
       "type": "table"
      }
     },
     "output_type": "display_data"
    }
   ],
   "source": [
    "# Pivot the DataFrame\n",
    "pivot_df = df1.groupBy(\"country_code\").pivot(\"age_group\").sum(\"population_2019\")\n",
    "\n",
    "# Show the pivoted DataFrame\n",
    "display(pivot_df)"
   ]
  },
  {
   "cell_type": "code",
   "execution_count": 0,
   "metadata": {
    "application/vnd.databricks.v1+cell": {
     "cellMetadata": {
      "byteLimit": 2048000,
      "rowLimit": 10000
     },
     "inputWidgets": {},
     "nuid": "772c0749-297c-4499-893f-7e882da08ba8",
     "showTitle": false,
     "tableResultSettingsMap": {},
     "title": ""
    }
   },
   "outputs": [],
   "source": [
    "result_df.write.json(\"abfss://processed@saibdp.dfs.core.windows.net/population_by_age.json\")"
   ]
  }
 ],
 "metadata": {
  "application/vnd.databricks.v1+notebook": {
   "dashboards": [],
   "environmentMetadata": {
    "base_environment": "",
    "client": "1"
   },
   "language": "python",
   "notebookMetadata": {
    "pythonIndentUnit": 2
   },
   "notebookName": "Untitled Notebook 2024-11-14 19:37:21",
   "widgets": {}
  },
  "language_info": {
   "name": "python"
  }
 },
 "nbformat": 4,
 "nbformat_minor": 0
}